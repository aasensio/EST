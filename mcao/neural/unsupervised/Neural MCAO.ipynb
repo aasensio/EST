{
 "cells": [
  {
   "cell_type": "code",
   "execution_count": 1,
   "metadata": {},
   "outputs": [],
   "source": [
    "%matplotlib inline\n",
    "import numpy as np\n",
    "import matplotlib.pyplot as pl\n",
    "import tomography\n",
    "import torch\n",
    "import torch.nn as nn\n",
    "import torch.utils.data\n",
    "import argparse\n",
    "import time\n",
    "import shutil\n",
    "import glob\n",
    "import os\n",
    "import scipy.special as sp\n",
    "from tqdm import tqdm_notebook"
   ]
  },
  {
   "cell_type": "code",
   "execution_count": 2,
   "metadata": {},
   "outputs": [],
   "source": [
    "def save_checkpoint(state, is_best, filename='checkpoint.pth.tar'):\n",
    "    torch.save(state, filename)\n",
    "    if is_best:\n",
    "        shutil.copyfile(filename, filename+'.best')\n",
    "        \n",
    "\n",
    "class dataset(torch.utils.data.Dataset):\n",
    "    def __init__(self, n_training, n_layers_turbulence, n_total_heights, n_directions, n_zernike, fov, heights, DTel):\n",
    "        super(dataset, self).__init__()\n",
    "        \n",
    "        self.n_training = n_training\n",
    "        self.n_zernike = n_zernike\n",
    "        self.n_layers_turbulence = n_layers_turbulence        \n",
    "        self.n_directions = n_directions\n",
    "        self.fov = fov\n",
    "        self.heights = heights\n",
    "        self.n_total_heights = len(self.heights)\n",
    "        self.DTel = DTel\n",
    "\n",
    "        self.mcao = tomography.tomography(self.n_directions, self.n_zernike, self.fov, self.heights, self.DTel, addPiston=True, npix=100)\n",
    "\n",
    "    def __getitem__(self, index):\n",
    "\n",
    "        alpha = np.random.randn(self.n_zernike, self.n_layers_turbulence)\n",
    "        heights = np.random.permutation(self.heights)[0:self.n_layers_turbulence]\n",
    "        beta = np.zeros((self.n_zernike, self.n_directions))\n",
    "\n",
    "        for i in range(self.n_directions):\n",
    "            for j in range(self.n_layers_turbulence):        \n",
    "                beta[:,i] += self.mcao.M[:,:,heights[j],i] @ alpha[:,j]\n",
    "\n",
    "        return beta.astype('float32')\n",
    "\n",
    "    def __len__(self):\n",
    "        return self.n_training"
   ]
  },
  {
   "cell_type": "markdown",
   "metadata": {},
   "source": [
    "Let us define a very simple network:"
   ]
  },
  {
   "cell_type": "code",
   "execution_count": 8,
   "metadata": {},
   "outputs": [],
   "source": [
    "class network(nn.Module):\n",
    "    def __init__(self, n_zernike, n_directions, n_layers_DMs, batch_size):\n",
    "        super(network, self).__init__()\n",
    "\n",
    "        self.n_zernike = n_zernike\n",
    "        self.n_directions = n_directions\n",
    "        self.n_layers_DMs = n_layers_DMs\n",
    "        self.batch_size = batch_size\n",
    "        \n",
    "        self.layer1 = nn.Linear(n_zernike*n_directions, 256)\n",
    "        self.layer2 = nn.Linear(256, n_zernike*n_layers_DMs)\n",
    "        self.relu = nn.ReLU()                \n",
    "        \n",
    "    def forward(self, x):\n",
    "\n",
    "        out = self.layer1(x.view(self.batch_size, -1))\n",
    "        out = self.layer2(out)        \n",
    "        \n",
    "        return out.view(self.batch_size, self.n_layers_DMs, self.n_zernike)"
   ]
  },
  {
   "cell_type": "markdown",
   "metadata": {},
   "source": [
    "This class does the training."
   ]
  },
  {
   "cell_type": "code",
   "execution_count": 9,
   "metadata": {},
   "outputs": [],
   "source": [
    "class mcao_neural(object):\n",
    "    def __init__(self, batch_size, n_layers_turbulence, n_training, n_validation, lr):\n",
    "\n",
    "        self.cuda = torch.cuda.is_available()\n",
    "        self.device = torch.device(\"cuda\" if self.cuda else \"cpu\")\n",
    "        self.batch_size = batch_size\n",
    "        self.lr = lr\n",
    "\n",
    "        # Define the properties of the telescope, FOV, etc.\n",
    "        self.n_directions = 7\n",
    "        self.n_zernike = 30\n",
    "        self.fov = 60.0\n",
    "        self.DTel = 4.0\n",
    "        self.npix = 100\n",
    "        self.n_layers_turbulence = n_layers_turbulence\n",
    "        self.n_training = n_training\n",
    "        self.n_validation = n_validation\n",
    "\n",
    "        # Define all potential heights that can harbor turbulence or DMs\n",
    "        self.heights = np.arange(15)\n",
    "        self.n_total_heights = len(self.heights)\n",
    "\n",
    "        # Instantiate the tomography class. This reads the projection matrix and defines\n",
    "        # some useful functions\n",
    "        self.mcao = tomography.tomography(self.n_directions, self.n_zernike, self.fov, self.heights, self.DTel, addPiston=True, npix=self.npix)\n",
    "\n",
    "        self.M = torch.from_numpy(self.mcao.M.astype('float32')).to(self.device)\n",
    "\n",
    "# Indices of the height vector on which we have a DM\n",
    "        self.index_h_DMs = [0, 11]\n",
    "        self.n_layers_DMs = len(self.index_h_DMs)\n",
    "\n",
    "        torch.backends.cudnn.benchmark = True\n",
    "\n",
    "        kwargs = {'num_workers': 1, 'pin_memory': True} if self.cuda else {}\n",
    "\n",
    "        current_time = time.strftime(\"%Y-%m-%d-%H:%M:%S\")\n",
    "        self.out_name = 'trained/{0}'.format(current_time)\n",
    "\n",
    "        self.model = network(self.n_zernike, self.n_directions, self.n_layers_DMs, self.batch_size).to(self.device)\n",
    "\n",
    "        dset = dataset(self.n_training, self.n_layers_turbulence, self.n_total_heights, self.n_directions, self.n_zernike, self.fov, self.heights, self.DTel)\n",
    "        self.train_loader = torch.utils.data.DataLoader(dset, batch_size=self.batch_size, shuffle=True, **kwargs)\n",
    "\n",
    "        dset = dataset(self.n_validation, self.n_layers_turbulence, self.n_total_heights, self.n_directions, self.n_zernike, self.fov, self.heights, self.DTel)\n",
    "        self.val_loader = torch.utils.data.DataLoader(dset, batch_size=self.batch_size, shuffle=True, **kwargs)\n",
    "\n",
    "        \n",
    "        self.loss_fn = nn.MSELoss().to(self.device)\n",
    "\n",
    "        self.optimizer = torch.optim.Adam(self.model.parameters(), lr=self.lr)\n",
    "\n",
    "    def optimize(self, n_epochs):\n",
    "        self.loss = []\n",
    "        self.loss_val = []\n",
    "        best_loss = -1e10\n",
    "        self.n_epochs = n_epochs\n",
    "\n",
    "        trainF = open('{0}.loss.csv'.format(self.out_name), 'w')\n",
    "\n",
    "        print('Model : {0}'.format(self.out_name))\n",
    "\n",
    "        for epoch in range(1, self.n_epochs + 1):\n",
    "            self.train(epoch)\n",
    "            self.test(epoch)\n",
    "\n",
    "            trainF.write('{},{},{}\\n'.format(\n",
    "                epoch, self.loss[-1], self.loss_val[-1]))\n",
    "            trainF.flush()\n",
    "\n",
    "            is_best = self.loss_val[-1] < best_loss\n",
    "            best_loss = min(self.loss_val[-1], best_loss)\n",
    "            save_checkpoint({\n",
    "                'epoch': epoch + 1,\n",
    "                'state_dict': self.model.state_dict(),\n",
    "                'best_loss': best_loss,\n",
    "                'optimizer': self.optimizer.state_dict(),\n",
    "            }, is_best, filename='{0}.pth'.format(self.out_name))\n",
    "\n",
    "\n",
    "        trainF.close()\n",
    "\n",
    "    def train(self, epoch):\n",
    "        self.model.train()\n",
    "\n",
    "        print(\"Epoch {0}/{1}\".format(epoch, self.n_epochs))\n",
    "        t = tqdm_notebook(self.train_loader)\n",
    "        loss_avg = 0.0\n",
    "        n = 1\n",
    "\n",
    "        for param_group in self.optimizer.param_groups:\n",
    "            current_lr = param_group['lr']\n",
    "\n",
    "        for batch_idx, (beta_turb) in enumerate(t):\n",
    "            beta_turb = beta_turb.to(self.device)\n",
    "            \n",
    "            self.optimizer.zero_grad()\n",
    "\n",
    "            d = self.model(beta_turb)\n",
    "\n",
    "            d_flatten = d.view(-1,self.n_zernike)\n",
    "\n",
    "            beta = beta_turb * 0.0\n",
    "\n",
    "            for i in range(self.n_directions):\n",
    "                for j in range(self.n_layers_DMs):\n",
    "                    mat = self.M[:,:,self.index_h_DMs[j],i]\n",
    "                    tmp = mat @ d[:,j,:].t()\n",
    "                    beta[:,:,i] += tmp.t()\n",
    "\n",
    "            loss = self.loss_fn(beta_turb, beta)\n",
    "            \n",
    "            loss_avg += (loss.item() - loss_avg) / n            \n",
    "            n += 1\n",
    "\n",
    "            loss.backward()\n",
    "\n",
    "            self.optimizer.step()\n",
    "            \n",
    "            t.set_postfix(loss=loss.item(), loss_avg=loss_avg)\n",
    "            \n",
    "        self.loss.append(loss_avg)\n",
    "\n",
    "    def test(self, epoch):\n",
    "        self.model.eval()\n",
    "\n",
    "        t = tqdm_notebook(self.val_loader)\n",
    "        loss_avg = 0.0\n",
    "        n = 1\n",
    "\n",
    "        for param_group in self.optimizer.param_groups:\n",
    "            current_lr = param_group['lr']\n",
    "\n",
    "        for batch_idx, (beta_turb) in enumerate(t):\n",
    "            beta_turb = beta_turb.to(self.device)\n",
    "            \n",
    "            d = self.model(beta_turb)\n",
    "\n",
    "            beta = beta_turb * 0.0\n",
    "\n",
    "            for i in range(self.n_directions):\n",
    "                for j in range(self.n_layers_DMs):\n",
    "                    mat = self.M[:,:,self.index_h_DMs[j],i]\n",
    "                    tmp = mat @ d[:,j,:].t()\n",
    "                    beta[:,:,i] += tmp.t()\n",
    "\n",
    "            loss = self.loss_fn(beta_turb, beta)\n",
    "            \n",
    "            loss_avg += (loss.item() - loss_avg) / n            \n",
    "            n += 1\n",
    "                        \n",
    "            t.set_postfix(loss=loss.item(), loss_avg=loss_avg)\n",
    "            \n",
    "        self.loss_val.append(loss_avg)"
   ]
  },
  {
   "cell_type": "markdown",
   "metadata": {},
   "source": [
    "Train for only 10 epochs. The network seems to be not flexible enough but at least it is not overtraining."
   ]
  },
  {
   "cell_type": "code",
   "execution_count": 10,
   "metadata": {},
   "outputs": [
    {
     "name": "stdout",
     "output_type": "stream",
     "text": [
      "-------------------------------------------------------------------\n",
      " - Zernike modes: 30\n",
      " - Number of heights : 15 -> [ 0.  1.  2.  3.  4.  5.  6.  7.  8.  9. 10. 11. 12. 13. 14.] km\n",
      " - FOV: 60.0 arcsec\n",
      " - Number of stars : 7\n",
      "-------------------------------------------------------------------\n",
      "Projection matrix exists : matrices/transformationMatrices_9ae2e132-aa14-457a-a9ea-96aaaecf1eae.npz\n",
      " - Zernike modes: 30\n",
      " - Number of heights : 15 -> [ 0.  1.  2.  3.  4.  5.  6.  7.  8.  9. 10. 11. 12. 13. 14.] km\n",
      " - FOV: 60.0 arcsec\n",
      " - Number of stars : 7\n",
      "-------------------------------------------------------------------\n",
      " - Zernike modes: 30\n",
      " - Number of heights : 15 -> [ 0.  1.  2.  3.  4.  5.  6.  7.  8.  9. 10. 11. 12. 13. 14.] km\n",
      " - FOV: 60.0 arcsec\n",
      " - Number of stars : 7\n",
      "-------------------------------------------------------------------\n",
      "Projection matrix exists : matrices/transformationMatrices_9ae2e132-aa14-457a-a9ea-96aaaecf1eae.npz\n",
      " - Zernike modes: 30\n",
      " - Number of heights : 15 -> [ 0.  1.  2.  3.  4.  5.  6.  7.  8.  9. 10. 11. 12. 13. 14.] km\n",
      " - FOV: 60.0 arcsec\n",
      " - Number of stars : 7\n",
      "-------------------------------------------------------------------\n",
      " - Zernike modes: 30\n",
      " - Number of heights : 15 -> [ 0.  1.  2.  3.  4.  5.  6.  7.  8.  9. 10. 11. 12. 13. 14.] km\n",
      " - FOV: 60.0 arcsec\n",
      " - Number of stars : 7\n",
      "-------------------------------------------------------------------\n",
      "Projection matrix exists : matrices/transformationMatrices_9ae2e132-aa14-457a-a9ea-96aaaecf1eae.npz\n",
      " - Zernike modes: 30\n",
      " - Number of heights : 15 -> [ 0.  1.  2.  3.  4.  5.  6.  7.  8.  9. 10. 11. 12. 13. 14.] km\n",
      " - FOV: 60.0 arcsec\n",
      " - Number of stars : 7\n",
      "Model : trained/2019-02-12-14:18:20\n",
      "Epoch 1/10\n"
     ]
    },
    {
     "data": {
      "application/vnd.jupyter.widget-view+json": {
       "model_id": "9a5b56c29dd84d5e8d6acb5961514730",
       "version_major": 2,
       "version_minor": 0
      },
      "text/plain": [
       "HBox(children=(IntProgress(value=0, max=1000), HTML(value='')))"
      ]
     },
     "metadata": {},
     "output_type": "display_data"
    },
    {
     "name": "stdout",
     "output_type": "stream",
     "text": [
      "\n"
     ]
    },
    {
     "data": {
      "application/vnd.jupyter.widget-view+json": {
       "model_id": "c977dd6b3c4c443d971800d2b76d7bde",
       "version_major": 2,
       "version_minor": 0
      },
      "text/plain": [
       "HBox(children=(IntProgress(value=0, max=50), HTML(value='')))"
      ]
     },
     "metadata": {},
     "output_type": "display_data"
    },
    {
     "name": "stdout",
     "output_type": "stream",
     "text": [
      "\n",
      "Epoch 2/10\n"
     ]
    },
    {
     "data": {
      "application/vnd.jupyter.widget-view+json": {
       "model_id": "2db87b0ae257496793aba98da1806ebf",
       "version_major": 2,
       "version_minor": 0
      },
      "text/plain": [
       "HBox(children=(IntProgress(value=0, max=1000), HTML(value='')))"
      ]
     },
     "metadata": {},
     "output_type": "display_data"
    },
    {
     "name": "stdout",
     "output_type": "stream",
     "text": [
      "\n"
     ]
    },
    {
     "data": {
      "application/vnd.jupyter.widget-view+json": {
       "model_id": "405ce517fd2a4fdc8c0523769c3024bf",
       "version_major": 2,
       "version_minor": 0
      },
      "text/plain": [
       "HBox(children=(IntProgress(value=0, max=50), HTML(value='')))"
      ]
     },
     "metadata": {},
     "output_type": "display_data"
    },
    {
     "name": "stdout",
     "output_type": "stream",
     "text": [
      "\n",
      "Epoch 3/10\n"
     ]
    },
    {
     "data": {
      "application/vnd.jupyter.widget-view+json": {
       "model_id": "efe0c462383e4c2195f0cb56f3467c48",
       "version_major": 2,
       "version_minor": 0
      },
      "text/plain": [
       "HBox(children=(IntProgress(value=0, max=1000), HTML(value='')))"
      ]
     },
     "metadata": {},
     "output_type": "display_data"
    },
    {
     "name": "stdout",
     "output_type": "stream",
     "text": [
      "\n"
     ]
    },
    {
     "data": {
      "application/vnd.jupyter.widget-view+json": {
       "model_id": "b3a55e239cfd430ca445882910f8b7fd",
       "version_major": 2,
       "version_minor": 0
      },
      "text/plain": [
       "HBox(children=(IntProgress(value=0, max=50), HTML(value='')))"
      ]
     },
     "metadata": {},
     "output_type": "display_data"
    },
    {
     "name": "stdout",
     "output_type": "stream",
     "text": [
      "\n",
      "Epoch 4/10\n"
     ]
    },
    {
     "data": {
      "application/vnd.jupyter.widget-view+json": {
       "model_id": "5a1a12a2f511499397599e527a4d0894",
       "version_major": 2,
       "version_minor": 0
      },
      "text/plain": [
       "HBox(children=(IntProgress(value=0, max=1000), HTML(value='')))"
      ]
     },
     "metadata": {},
     "output_type": "display_data"
    },
    {
     "name": "stdout",
     "output_type": "stream",
     "text": [
      "\n"
     ]
    },
    {
     "data": {
      "application/vnd.jupyter.widget-view+json": {
       "model_id": "4fe22827cae447e78e51f817e08c8058",
       "version_major": 2,
       "version_minor": 0
      },
      "text/plain": [
       "HBox(children=(IntProgress(value=0, max=50), HTML(value='')))"
      ]
     },
     "metadata": {},
     "output_type": "display_data"
    },
    {
     "name": "stdout",
     "output_type": "stream",
     "text": [
      "\n",
      "Epoch 5/10\n"
     ]
    },
    {
     "data": {
      "application/vnd.jupyter.widget-view+json": {
       "model_id": "b3a27bb58a434c55b34ef42328dbd3f2",
       "version_major": 2,
       "version_minor": 0
      },
      "text/plain": [
       "HBox(children=(IntProgress(value=0, max=1000), HTML(value='')))"
      ]
     },
     "metadata": {},
     "output_type": "display_data"
    },
    {
     "name": "stdout",
     "output_type": "stream",
     "text": [
      "\n"
     ]
    },
    {
     "data": {
      "application/vnd.jupyter.widget-view+json": {
       "model_id": "0ddfe0953b3b4e0c8c8bf30d16d91ab5",
       "version_major": 2,
       "version_minor": 0
      },
      "text/plain": [
       "HBox(children=(IntProgress(value=0, max=50), HTML(value='')))"
      ]
     },
     "metadata": {},
     "output_type": "display_data"
    },
    {
     "name": "stdout",
     "output_type": "stream",
     "text": [
      "\n",
      "Epoch 6/10\n"
     ]
    },
    {
     "data": {
      "application/vnd.jupyter.widget-view+json": {
       "model_id": "0a237ac8b59d4f78af8c29b74d55bfd2",
       "version_major": 2,
       "version_minor": 0
      },
      "text/plain": [
       "HBox(children=(IntProgress(value=0, max=1000), HTML(value='')))"
      ]
     },
     "metadata": {},
     "output_type": "display_data"
    },
    {
     "name": "stdout",
     "output_type": "stream",
     "text": [
      "\n"
     ]
    },
    {
     "data": {
      "application/vnd.jupyter.widget-view+json": {
       "model_id": "9927c3896c7b4d41aa6c229956bbb366",
       "version_major": 2,
       "version_minor": 0
      },
      "text/plain": [
       "HBox(children=(IntProgress(value=0, max=50), HTML(value='')))"
      ]
     },
     "metadata": {},
     "output_type": "display_data"
    },
    {
     "name": "stdout",
     "output_type": "stream",
     "text": [
      "\n",
      "Epoch 7/10\n"
     ]
    },
    {
     "data": {
      "application/vnd.jupyter.widget-view+json": {
       "model_id": "5192ae0142d04d03b22fa904484559e4",
       "version_major": 2,
       "version_minor": 0
      },
      "text/plain": [
       "HBox(children=(IntProgress(value=0, max=1000), HTML(value='')))"
      ]
     },
     "metadata": {},
     "output_type": "display_data"
    },
    {
     "name": "stdout",
     "output_type": "stream",
     "text": [
      "\n"
     ]
    },
    {
     "data": {
      "application/vnd.jupyter.widget-view+json": {
       "model_id": "69dc9c36e1e14709be62da27dc0c8bbe",
       "version_major": 2,
       "version_minor": 0
      },
      "text/plain": [
       "HBox(children=(IntProgress(value=0, max=50), HTML(value='')))"
      ]
     },
     "metadata": {},
     "output_type": "display_data"
    },
    {
     "name": "stdout",
     "output_type": "stream",
     "text": [
      "\n",
      "Epoch 8/10\n"
     ]
    },
    {
     "data": {
      "application/vnd.jupyter.widget-view+json": {
       "model_id": "6444ac8f6c0c4fb695d1f9e3adf5706f",
       "version_major": 2,
       "version_minor": 0
      },
      "text/plain": [
       "HBox(children=(IntProgress(value=0, max=1000), HTML(value='')))"
      ]
     },
     "metadata": {},
     "output_type": "display_data"
    },
    {
     "name": "stdout",
     "output_type": "stream",
     "text": [
      "\n"
     ]
    },
    {
     "data": {
      "application/vnd.jupyter.widget-view+json": {
       "model_id": "90dca24da9bb43e7840cd1378f6ad9c3",
       "version_major": 2,
       "version_minor": 0
      },
      "text/plain": [
       "HBox(children=(IntProgress(value=0, max=50), HTML(value='')))"
      ]
     },
     "metadata": {},
     "output_type": "display_data"
    },
    {
     "name": "stdout",
     "output_type": "stream",
     "text": [
      "\n",
      "Epoch 9/10\n"
     ]
    },
    {
     "data": {
      "application/vnd.jupyter.widget-view+json": {
       "model_id": "859eca3c6b794e0384fb4bfd2cfea483",
       "version_major": 2,
       "version_minor": 0
      },
      "text/plain": [
       "HBox(children=(IntProgress(value=0, max=1000), HTML(value='')))"
      ]
     },
     "metadata": {},
     "output_type": "display_data"
    },
    {
     "name": "stdout",
     "output_type": "stream",
     "text": [
      "\n"
     ]
    },
    {
     "data": {
      "application/vnd.jupyter.widget-view+json": {
       "model_id": "ede58c8ea2434399838cb5685127aae2",
       "version_major": 2,
       "version_minor": 0
      },
      "text/plain": [
       "HBox(children=(IntProgress(value=0, max=50), HTML(value='')))"
      ]
     },
     "metadata": {},
     "output_type": "display_data"
    },
    {
     "name": "stdout",
     "output_type": "stream",
     "text": [
      "\n",
      "Epoch 10/10\n"
     ]
    },
    {
     "data": {
      "application/vnd.jupyter.widget-view+json": {
       "model_id": "4432f7f7905040eca6654c59e537a30c",
       "version_major": 2,
       "version_minor": 0
      },
      "text/plain": [
       "HBox(children=(IntProgress(value=0, max=1000), HTML(value='')))"
      ]
     },
     "metadata": {},
     "output_type": "display_data"
    },
    {
     "name": "stdout",
     "output_type": "stream",
     "text": [
      "\n"
     ]
    },
    {
     "data": {
      "application/vnd.jupyter.widget-view+json": {
       "model_id": "c0bf37c3449349d7a7d3a81d564584fd",
       "version_major": 2,
       "version_minor": 0
      },
      "text/plain": [
       "HBox(children=(IntProgress(value=0, max=50), HTML(value='')))"
      ]
     },
     "metadata": {},
     "output_type": "display_data"
    },
    {
     "name": "stdout",
     "output_type": "stream",
     "text": [
      "\n"
     ]
    }
   ],
   "source": [
    "mcao_network = mcao_neural(batch_size=64, n_layers_turbulence=2, n_training=1000*64, n_validation=50*64, lr=3e-4)\n",
    "mcao_network.optimize(n_epochs=10)"
   ]
  },
  {
   "cell_type": "code",
   "execution_count": 11,
   "metadata": {},
   "outputs": [
    {
     "data": {
      "text/plain": [
       "<matplotlib.legend.Legend at 0x7f1d22124550>"
      ]
     },
     "execution_count": 11,
     "metadata": {},
     "output_type": "execute_result"
    },
    {
     "data": {
      "image/png": "[encoded data removed]",
      "text/plain": [
       "<Figure size 432x288 with 1 Axes>"
      ]
     },
     "metadata": {
      "needs_background": "light"
     },
     "output_type": "display_data"
    }
   ],
   "source": [
    "f, ax = pl.subplots()\n",
    "ax.plot(np.array(mcao_network.loss), label='training')\n",
    "ax.plot(np.array(mcao_network.loss_val), label='validation')\n",
    "ax.legend()"
   ]
  },
  {
   "cell_type": "markdown",
   "metadata": {},
   "source": [
    "Now do an experiment in which we put an atmosphere randomly with 2 metapupils and try to correct with the DMs."
   ]
  },
  {
   "cell_type": "code",
   "execution_count": 12,
   "metadata": {},
   "outputs": [],
   "source": [
    "def noll_indices(j):\n",
    "  narr = np.arange(40)\n",
    "  jmax = (narr+1)*(narr+2)/2\n",
    "  wh = np.where(j <= jmax)\n",
    "  n = wh[0][0]\n",
    "  mprime = j - n*(n+1)/2\n",
    "  if ((n % 2) == 0):\n",
    "    m = 2*int(np.floor(mprime/2))\n",
    "  else:\n",
    "    m = 1 + 2*int(np.floor((mprime-1)/2))\n",
    "\n",
    "  if ((j % 2) != 0):\n",
    "    m *= -1\n",
    "\n",
    "  return n, m\n",
    "\n",
    "def _even(x):\n",
    "    return x%2 == 0\n",
    "\n",
    "def _zernike_parity(j, jp):\n",
    "    return _even(j-jp)\n",
    "\n",
    "class mcao_neural_validation(object):\n",
    "    def __init__(self, checkpoint, batch_size, n_layers_turbulence, n_training, n_validation):\n",
    "\n",
    "        self.cuda = torch.cuda.is_available()\n",
    "        self.device = torch.device(\"cuda\" if self.cuda else \"cpu\")\n",
    "        self.batch_size = batch_size\n",
    "\n",
    "        if (checkpoint is None):\n",
    "            files = glob.glob('trained/*.pth')\n",
    "            self.checkpoint = max(files, key=os.path.getctime)\n",
    "            \n",
    "        else:\n",
    "            self.checkpoint = '{0}.pth'.format(checkpoint)\n",
    "\n",
    "        # Define the properties of the telescope, FOV, etc.\n",
    "        self.n_directions = 7\n",
    "        self.n_zernike = 30\n",
    "        self.fov = 60.0\n",
    "        self.DTel = 4.0\n",
    "        self.npix = 100\n",
    "        self.n_layers_turbulence = n_layers_turbulence\n",
    "        self.n_training = n_training\n",
    "        self.n_validation = n_validation\n",
    "\n",
    "        # Define all potential heights that can harbor turbulence or DMs\n",
    "        self.heights = np.arange(15)\n",
    "        self.n_total_heights = len(self.heights)\n",
    "\n",
    "        # Instantiate the tomography class. This reads the projection matrix and defines\n",
    "        # some useful functions\n",
    "        self.mcao = tomography.tomography(self.n_directions, self.n_zernike, self.fov, self.heights, self.DTel, addPiston=True, npix=self.npix)\n",
    "\n",
    "        self.M = torch.from_numpy(self.mcao.M.astype('float32')).to(self.device)\n",
    "\n",
    "# Indices of the height vector on which we have a DM\n",
    "        self.index_h_DMs = [0, 11]\n",
    "        self.n_layers_DMs = len(self.index_h_DMs)\n",
    "\n",
    "        torch.backends.cudnn.benchmark = True\n",
    "\n",
    "        kwargs = {'num_workers': 1, 'pin_memory': True} if self.cuda else {}\n",
    "\n",
    "        current_time = time.strftime(\"%Y-%m-%d-%H:%M:%S\")\n",
    "        self.out_name = 'trained/{0}'.format(current_time)\n",
    "\n",
    "        self.model = network(self.n_zernike, self.n_directions, self.n_layers_DMs, self.batch_size).to(self.device)\n",
    "\n",
    "        print(\"=> loading checkpoint '{}'\".format(self.checkpoint))\n",
    "        if (self.cuda):\n",
    "            checkpoint = torch.load(self.checkpoint)\n",
    "        else:\n",
    "            checkpoint = torch.load(self.checkpoint, map_location=lambda storage, loc: storage)\n",
    "        self.model.load_state_dict(checkpoint['state_dict'])        \n",
    "        print(\"=> loaded checkpoint '{}'\".format(self.checkpoint))\n",
    "        \n",
    "    def generate_turbulence(self, r0):\n",
    "        \n",
    "        covariance = np.zeros((self.n_zernike,self.n_zernike))\n",
    "        for j in range(self.n_zernike):\n",
    "            n, m = noll_indices(j+1)\n",
    "            for jpr in range(self.n_zernike):\n",
    "                npr, mpr = noll_indices(jpr+1)\n",
    "                \n",
    "                deltaz = (m == mpr) and (_zernike_parity(j, jpr) or m == 0)\n",
    "                \n",
    "                if (deltaz):                \n",
    "                    phase = (-1.0)**(0.5*(n+npr-2*m))\n",
    "                    t1 = np.sqrt((n+1)*(npr+1)) \n",
    "                    t2 = sp.gamma(14./3.0) * sp.gamma(11./6.0)**2 * (24.0/5.0*sp.gamma(6.0/5.0))**(5.0/6.0) / (2.0*np.pi**2)\n",
    "\n",
    "                    Kzz = t2 * t1 * phase\n",
    "                    \n",
    "                    t1 = sp.gamma(0.5*(n+npr-5.0/3.0))\n",
    "                    t2 = sp.gamma(0.5*(n-npr+17.0/3.0)) * sp.gamma(0.5*(npr-n+17.0/3.0)) * sp.gamma(0.5*(n+npr+23.0/3.0))\n",
    "                    covariance[j,jpr] = Kzz * t1 / t2\n",
    "        \n",
    "                        \n",
    "        covariance[0,0] = 1.0\n",
    "        covariance[0,:] = 0.0\n",
    "        covariance[:,0] = 0.0\n",
    "\n",
    "        return np.random.multivariate_normal(np.zeros(self.n_zernike), covariance)\n",
    "\n",
    "    def validate(self):\n",
    "        self.model.eval()\n",
    "\n",
    "        wfs = np.zeros((self.n_directions, self.npix, self.npix))\n",
    "        loss = np.zeros(self.n_directions)\n",
    "        mask = self.mcao.pupil == 1\n",
    "        n_pixel = np.sum(mask)\n",
    "\n",
    "        f, ax = pl.subplots(nrows=3, ncols=3, figsize=(13,8), constrained_layout=True)\n",
    "        f2, ax2 = pl.subplots(nrows=3, ncols=3, figsize=(13,8), constrained_layout=True)\n",
    "        ax = ax.flatten()\n",
    "        ax2 = ax2.flatten()\n",
    "\n",
    "        with torch.no_grad():\n",
    "            \n",
    "            alpha = np.zeros((self.n_zernike,self.n_layers_turbulence))\n",
    "            alpha[:,0] = self.generate_turbulence(r0=5.0)\n",
    "            alpha[:,1] = self.generate_turbulence(r0=5.0)\n",
    "\n",
    "            alpha = torch.from_numpy(alpha.astype('float32')).to(self.device)\n",
    "            heights = np.random.permutation(self.heights)[0:self.n_layers_turbulence]\n",
    "\n",
    "            beta_turb = torch.zeros((1,self.n_zernike, self.n_directions)).to(self.device)\n",
    "\n",
    "            for i in range(self.n_directions):\n",
    "                for j in range(self.n_layers_turbulence):                    \n",
    "                    tmp = self.M[:,:,heights[j],i] @ alpha[:,j]\n",
    "                    beta_turb[0,:,i] += tmp\n",
    "    \n",
    "            d = self.model(beta_turb)\n",
    "\n",
    "            beta = beta_turb * 0.0\n",
    "\n",
    "            for i in range(self.n_directions):\n",
    "                for j in range(self.n_layers_DMs):\n",
    "                    mat = self.M[:,:,self.index_h_DMs[j],i]\n",
    "                    tmp = mat @ d[:,j,:].t()\n",
    "                    beta[:,:,i] += tmp.t()\n",
    "\n",
    "            beta = beta_turb - beta\n",
    "            alpha = alpha.cpu().numpy()\n",
    "            beta = beta.cpu().numpy()\n",
    "            beta_turb = beta_turb.cpu().numpy()\n",
    "            d = d.cpu().numpy()\n",
    "\n",
    "            for i in range(7):\n",
    "                wfs[i,:,:] = self.mcao.to_wavefront(beta[0,:,i])\n",
    "                loss[i] = np.sum(wfs[i,mask]**2) / n_pixel\n",
    "\n",
    "                im = ax[i].imshow(wfs[i,:,:], cmap=pl.cm.viridis)\n",
    "                ax[i].set_title('Corrected WF L={0:.2f}'.format(loss[i]))\n",
    "                pl.colorbar(im, ax=ax[i])\n",
    "\n",
    "                wfs[i,:,:] = self.mcao.to_wavefront(beta_turb[0,:,i])\n",
    "                loss[i] = np.sum(wfs[i,mask]**2) / n_pixel\n",
    "\n",
    "                im = ax2[i].imshow(wfs[i,:,:], cmap=pl.cm.viridis)        \n",
    "                ax2[i].set_title('Original WF L={0:.2f}'.format(loss[i]))\n",
    "                pl.colorbar(im, ax=ax2[i])\n",
    "\n",
    "            for i in range(2):\n",
    "                wfs[i,:,:] = self.mcao.to_wavefront(alpha[:,i])\n",
    "                im = ax2[i+7].imshow(wfs[i,:,:], cmap=pl.cm.viridis)\n",
    "                ax2[i+7].set_title('Turbulence metapupil h={0}'.format(heights[i]))\n",
    "                pl.colorbar(im, ax=ax2[i+7])\n",
    "                \n",
    "                wfs[i,:,:] = self.mcao.to_wavefront(d[0,i,:])\n",
    "                im = ax[i+7].imshow(wfs[i,:,:], cmap=pl.cm.viridis)\n",
    "                ax[i+7].set_title('DMs h={0}'.format(self.index_h_DMs[i]))\n",
    "                pl.colorbar(im, ax=ax[i+7])\n",
    "        pl.tight_layout()"
   ]
  },
  {
   "cell_type": "code",
   "execution_count": null,
   "metadata": {},
   "outputs": [
    {
     "name": "stdout",
     "output_type": "stream",
     "text": [
      "-------------------------------------------------------------------\n",
      " - Zernike modes: 30\n",
      " - Number of heights : 15 -> [ 0.  1.  2.  3.  4.  5.  6.  7.  8.  9. 10. 11. 12. 13. 14.] km\n",
      " - FOV: 60.0 arcsec\n",
      " - Number of stars : 7\n",
      "-------------------------------------------------------------------\n",
      "Projection matrix exists : matrices/transformationMatrices_9ae2e132-aa14-457a-a9ea-96aaaecf1eae.npz\n",
      " - Zernike modes: 30\n",
      " - Number of heights : 15 -> [ 0.  1.  2.  3.  4.  5.  6.  7.  8.  9. 10. 11. 12. 13. 14.] km\n",
      " - FOV: 60.0 arcsec\n",
      " - Number of stars : 7\n",
      "=> loading checkpoint 'trained/2019-02-12-14:18:20.pth'\n",
      "=> loaded checkpoint 'trained/2019-02-12-14:18:20.pth'\n"
     ]
    },
    {
     "name": "stderr",
     "output_type": "stream",
     "text": [
      "/scratch/miniconda3.7/envs/py37/lib/python3.7/site-packages/matplotlib/_constrained_layout.py:226: UserWarning: constrained_layout not applied.  At least one axes collapsed to zero width or height.\n",
      "  warnings.warn('constrained_layout not applied.  At least '\n",
      "/scratch/miniconda3.7/envs/py37/lib/python3.7/site-packages/matplotlib/figure.py:2366: UserWarning: This figure includes Axes that are not compatible with tight_layout, so results might be incorrect.\n",
      "  warnings.warn(\"This figure includes Axes that are not compatible \"\n"
     ]
    }
   ],
   "source": [
    "mcao_network = mcao_neural_validation(checkpoint=None, batch_size=1, n_layers_turbulence=2, n_training=100*64, n_validation=10*64)\n",
    "mcao_network.validate()"
   ]
  },
  {
   "cell_type": "code",
   "execution_count": null,
   "metadata": {},
   "outputs": [],
   "source": []
  }
 ],
 "metadata": {
  "kernelspec": {
   "display_name": "Python 3",
   "language": "python",
   "name": "python3"
  },
  "language_info": {
   "codemirror_mode": {
    "name": "ipython",
    "version": 3
   },
   "file_extension": ".py",
   "mimetype": "text/x-python",
   "name": "python",
   "nbconvert_exporter": "python",
   "pygments_lexer": "ipython3",
   "version": "3.7.2"
  }
 },
 "nbformat": 4,
 "nbformat_minor": 2
}
