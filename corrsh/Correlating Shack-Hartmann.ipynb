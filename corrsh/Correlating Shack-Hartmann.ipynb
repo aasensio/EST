{
 "cells": [
  {
   "cell_type": "code",
   "execution_count": 2,
   "metadata": {
    "collapsed": true
   },
   "outputs": [],
   "source": [
    "import numpy as np\n",
    "import matplotlib.pyplot as pl\n",
    "%matplotlib inline"
   ]
  },
  {
   "cell_type": "markdown",
   "metadata": {},
   "source": [
    "Inferring the wavefront using a Shack-Hartmann when the reference object is extended is more difficult than in the case of point objects. With point objects, measuring the displacement of the star in each one of the subapertures directly gives the local slope of the wavefront. By putting all together, it is possible to infer the wavefront.\n",
    "When the object is extended, measuring the slope of the wavefront is usually done using correlating techniques. One of the subapertures is selected as a reference and the correlation function between each subaperture and the reference one is obtained. Several techniques can be applied to obtain subpixel precision in the measurement of the shift. It is usual to fit a paraboloid to the peak of the correlation function and infer the subpixel position of the peak. Other techniques work directly in the Fourier space, by utilizing the phase difference between each subaperture and the reference.\n",
    "\n",
    "To my knowledge, all correlating Shack-Hartmann work by computing the correlation between each subaperture and the reference one, and no restriction is put on the inferred slopes. In this work, we introduce the prior that the wavefront has to be given as an expansion in a set of orthogonal basis functions (Zernike or Karhunen-Loeve modes). This allows us to compute the modes of the wavefront directly from the measurement of the phases and use all subapertures together."
   ]
  },
  {
   "cell_type": "markdown",
   "metadata": {},
   "source": [
    "### Analytical method"
   ]
  },
  {
   "cell_type": "markdown",
   "metadata": {},
   "source": [
    "Given two images $f(\\mathbf{r})$ and $g(\\mathbf{r}+\\mathbf{r}_0)$, with $\\mathbf{r}=(x,y)$\n",
    "and $\\mathbf{r}_0$, we can estimate the shift between the two images assuming that they\n",
    "are similar by optimizing the following squared error:\n",
    "\n",
    "$$\n",
    "\\epsilon^2 = \\int \\int_{-\\infty}^{\\infty} \\left| f(\\mathbf{r}) - g(\\mathbf{r}+\\mathbf{r}_0)\\right|^2 \\mathrm{d}\\mathbf{f}= \n",
    "\\int \\int_{-\\infty}^{\\infty} \\left| F(\\mathbf{f}) - G(\\mathbf{f}) \\exp \\left( 2\\pi i \\,\\mathbf{f} \\cdot \\mathbf{r}\n",
    "\\right) \\right|^2 \\mathrm{d}\\mathbf{f},\n",
    "$$\n",
    "\n",
    "where the last equation is a consequence of the Parseval's theorem and capital\n",
    "letters refer to the Fourier transform of the equivalent functions in small letters. If we want to estimate\n",
    "the shift of many images with respect to a reference one, one can build a merit function\n",
    "by adding all squared errors:\n",
    "\n",
    "$$\n",
    "\\epsilon^2 = \\sum_{i=1}^N  \n",
    "\\int \\int_{-\\infty}^{\\infty} \\left| F_i(\\mathbf{f}) - G_i(\\mathbf{f}) \\exp \\left( 2\\pi i \\,\\mathbf{f} \\cdot \\mathbf{r}_i\n",
    "\\right) \\right|^2 \\mathrm{d}\\mathbf{f}.\n",
    "$$\n",
    "\n",
    "Given that every individual $\\mathbf{r}_i$ affects only the $i$-th term in $\\epsilon^2$, solving\n",
    "for all subapertures simultaneously in this way is equivalent to finding each $\\mathbf{r}_i$\n",
    "that optimizes each $\\epsilon^2$.\n",
    "\n",
    "However, one can introduce some contraints by assuming that the displacement in all\n",
    "subapertures are not independent, but come from a common wavefront. We assume that the wavefront\n",
    "$\\phi(x,y)$ at any point in the pupil is assumed to be given as a linear combination of \n",
    "Zernike polynomials, so that:\n",
    "\\begin{equation}\n",
    "\\phi(x,y) = \\sum_{j=1}^M \\alpha_j Z_j(x,y),\n",
    "\\end{equation}\n",
    "where $j$ is the Noll index and $Z_j(x,y)$ is the Zernike polynomial. A Shack-Hartmann (SH) wavefront\n",
    "sensor is a device that consists of several subapertures that produce images of the same\n",
    "object affected by different parts of the wavefront. The image is then shifted to a position\n",
    "$(\\Delta x_i,\\Delta y_i)$ that is given by the horizontal and vertical derivative of the wavefront:\n",
    "\\begin{align}\n",
    "\\Delta x_i = F \\frac{\\partial \\phi(x_i,y_i)}{\\partial x} = \\sum_{j=1}^M \\alpha_j \\frac{\\partial Z_j(x_i,y_i)}{\\partial x}, \\nonumber \\\\\n",
    "\\Delta y_i = F \\frac{\\partial \\phi(x_i,y_i)}{\\partial y} = \\sum_{j=1}^M \\alpha_j \\frac{\\partial Z_j(x_i,y_i)}{\\partial y},\n",
    "\\end{align}\n",
    "where $F$ is the focal of the SH microlenses.\n",
    "\n",
    "The previous expressions can then be plugged into the equation defining the merit function and find:\n",
    "\\begin{equation}\n",
    "\\epsilon^2 = \\sum_{i=1}^N  \n",
    "\\int \\int_{-\\infty}^{\\infty} \\left| F_i(\\mathbf{f}) - G_i(\\mathbf{f}) \\exp \\left[ 2\\pi i \\sum_j \\alpha_j \\left(\n",
    "f_x Z_{ij}^x + f_y Z_{ij}^y \\right) \\right] \\right|^2 \\mathrm{d}\\mathbf{f},\n",
    "\\end{equation}\n",
    "where $Z_{ij}^x$ is the horizontal derivative of the $j$ Zernike polynomial for subaperture $i$.\n",
    "For simplifying the notation during the calculations, we make the substitution $K_{ij}=f_x Z_{ij}^x + f_y Z_{ij}^y$.\n",
    "The previous merit function can then be optimized by taking the derivative with respect to all\n",
    "$\\alpha_j$ and equate to zero. It can be checked that each derivative is given by:\n",
    "\\begin{equation}\n",
    "\\frac{\\partial \\epsilon^2}{\\partial \\alpha_k} = \\Re \\left\\{ 4\\pi i   \n",
    "\\int \\int_{-\\infty}^{\\infty} \\sum_{i=1}^N \\left[ K_{ik} F_i G_i^* \\exp \\left( -2\\pi i \\sum_j \\alpha_j \n",
    "K_{ij} \\right) \\right] \\mathrm{d}\\mathbf{f} \\right\\}=0.\n",
    "\\end{equation}\n",
    "Now, the product $F_i G_i^*$ is the cross-correlation of the two functions. The cross-correlation\n",
    "function can be written, in general, as \n",
    "\\begin{equation}\n",
    "C_i(\\mathbf{f}) = F_i G_i^* = |C(\\mathbf{f})| \\exp \\left[ i \\phi_i(\\mathbf{f}) \\right].\n",
    "\\end{equation}\n",
    "This allows us to rewrite each equation as:\n",
    "\\begin{equation}\n",
    "\\frac{\\partial \\epsilon^2}{\\partial \\alpha_k} = \\Re \\left\\{ i   \n",
    "\\int \\int_{-\\infty}^{\\infty} \\sum_{i=1}^N \\left[ K_{ik} |C_i| \\exp \\left( -2\\pi i \\sum_j \\alpha_j \n",
    "K_{ij} + i \\phi_i \\right) \\right] \\mathrm{d}\\mathbf{f} \\right\\}=0.\n",
    "\\end{equation}\n",
    "It is obvious that, if the phase of the cross-correlation is obtained with precision, it has\n",
    "to be very similar to the sum over the Zernike coefficients. This allows us to make a Taylor\n",
    "expansion and cut at first order, so that we approximate:\n",
    "\\begin{equation}\n",
    "\\exp \\left( -2\\pi i \\sum_j \\alpha_j \n",
    "K_{ij} + \\phi_i \\right) \\approx 1 + i \\phi_i -2\\pi i \\sum_j \\alpha_j K_{ij}.\n",
    "\\end{equation}\n",
    "This allows us to linearize the equations and transform them into a linear system of\n",
    "equations. Plugging the series expansion into the derivative expression, we find:\n",
    "\\begin{equation}\n",
    "\\frac{\\partial \\epsilon^2}{\\partial \\alpha_k} = \\Re \\left[  i   \n",
    "\\int \\int_{-\\infty}^{\\infty} \\sum_{i=1}^N K_{ik} |C_i| \\mathrm{d}\\mathbf{f} \\right]\n",
    "- \\Re \\left[   \n",
    "\\int \\int_{-\\infty}^{\\infty} \\sum_{i=1}^N K_{ik} |C_i| \\phi_i \\mathrm{d}\\mathbf{f} \\right]\n",
    "+ \\Re \\left[ 2\\pi    \n",
    "\\int \\int_{-\\infty}^{\\infty} \\sum_{i=1}^N K_{ik} |C_i| \\sum_j \\alpha_j \n",
    "K_{ij} \\mathrm{d}\\mathbf{f} \\right].\n",
    "\\end{equation}\n",
    "\n",
    "The first term is obviously zero because the integrand is real. The second and third terms can\n",
    "be worked out and written as:\n",
    "\\begin{equation}\n",
    "-\\int \\int_{-\\infty}^{\\infty} \\sum_{i=1}^N K_{ik} |C_i| \\phi_i \\mathrm{d}\\mathbf{f}\n",
    "= -\\sum_{i=1}^N \\left( Z_{ik}^x b_i^x + Z_{ik}^y b_i^y \\right) = -b_k,\n",
    "\\end{equation}\n",
    "and\n",
    "\\begin{equation}\n",
    "2\\pi \\int \\int_{-\\infty}^{\\infty} \\sum_{i=1}^N K_{ik} |C_i| \\sum_j \\alpha_j K_{ij} \\mathrm{d}\\mathbf{f}=\n",
    "2\\pi \\sum_j A_{kj} \\alpha_j,\n",
    "\\end{equation}\n",
    "where\n",
    "\\begin{equation}\n",
    "A_{kj} = \\sum_i Z_{ik}^x Z_{ij}^x a^{xx}_i + \\sum_i \\left( Z_{ik}^x Z_{ij}^y + Z_{ik}^y Z_{ij}^x \\right) a^{xy}_i + \n",
    "\\sum_i Z_{ik}^y Z_{ij}^y a^{yy}_i,\n",
    "\\end{equation}\n",
    "and\n",
    "\\begin{align}\n",
    "a^{xx}_i &= \\int \\int_{-\\infty}^{\\infty} |C_i| f_x^2 \\mathrm{d}\\mathbf{f} \\\\\n",
    "a^{yy}_i &= \\int \\int_{-\\infty}^{\\infty} |C_i| f_y^2 \\mathrm{d}\\mathbf{f} \\\\\n",
    "a^{xy}_i &= \\int \\int_{-\\infty}^{\\infty} |C_i| f_x f_y \\mathrm{d}\\mathbf{f} \\\\\n",
    "b^{x}_i &= \\int \\int_{-\\infty}^{\\infty} |C_i| \\phi_i f_x \\mathrm{d}\\mathbf{f} \\\\\n",
    "b^{y}_i &= \\int \\int_{-\\infty}^{\\infty} |C_i| \\phi_i f_y \\mathrm{d}\\mathbf{f}\n",
    "\\end{align}\n",
    "\n",
    "Summarizing, the coefficients of the wavefront are obtained by solving the \n",
    "linear system:\n",
    "\\begin{equation}\n",
    "\\sum_j A_{kj} \\alpha_j = \\frac{-b_k}{2\\pi},\n",
    "\\end{equation}\n",
    "which can be written in matrix form as:\n",
    "\\begin{equation}\n",
    "\\mathbf{A} \\mathbf{\\alpha} = \\mathbf{b}.\n",
    "\\end{equation}"
   ]
  },
  {
   "cell_type": "markdown",
   "metadata": {},
   "source": [
    "### Working example\n",
    "\n",
    "In the following, I define a Python class that implements all the necessary actions to solve the previous linear system for a given wavefront, as well as the steps needed to emulate a classical correlating Shack-Hartmann."
   ]
  },
  {
   "cell_type": "code",
   "execution_count": 1,
   "metadata": {
    "collapsed": true
   },
   "outputs": [],
   "source": []
  },
  {
   "cell_type": "code",
   "execution_count": null,
   "metadata": {
    "collapsed": true
   },
   "outputs": [],
   "source": []
  }
 ],
 "metadata": {
  "kernelspec": {
   "display_name": "Python 3",
   "language": "python",
   "name": "python3"
  },
  "language_info": {
   "codemirror_mode": {
    "name": "ipython",
    "version": 3
   },
   "file_extension": ".py",
   "mimetype": "text/x-python",
   "name": "python",
   "nbconvert_exporter": "python",
   "pygments_lexer": "ipython3",
   "version": "3.5.1"
  }
 },
 "nbformat": 4,
 "nbformat_minor": 0
}
